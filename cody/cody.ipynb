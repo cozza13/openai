{
 "cells": [
  {
   "attachments": {},
   "cell_type": "markdown",
   "metadata": {},
   "source": [
    "# Cody"
   ]
  },
  {
   "attachments": {},
   "cell_type": "markdown",
   "metadata": {},
   "source": [
    "## Set up Selenium (get the Chrome driver)"
   ]
  },
  {
   "cell_type": "code",
   "execution_count": 2,
   "metadata": {},
   "outputs": [],
   "source": [
    "from urllib.request import urlopen\n",
    "import json\n",
    "res = urlopen('https://googlechromelabs.github.io/chrome-for-testing/last-known-good-versions-with-downloads.json')\n",
    "data = json.load(res)\n",
    "# data"
   ]
  },
  {
   "cell_type": "code",
   "execution_count": 6,
   "metadata": {},
   "outputs": [
    {
     "data": {
      "text/plain": [
       "'114.0.5735.133'"
      ]
     },
     "execution_count": 6,
     "metadata": {},
     "output_type": "execute_result"
    }
   ],
   "source": [
    "# data['channels'].keys()\n",
    "data['channels']['Stable']['version']"
   ]
  },
  {
   "cell_type": "code",
   "execution_count": 12,
   "metadata": {},
   "outputs": [
    {
     "name": "stdout",
     "output_type": "stream",
     "text": [
      "linux64 https://edgedl.me.gvt1.com/edgedl/chrome/chrome-for-testing/114.0.5735.133/linux64/chrome-linux64.zip\n",
      "mac-arm64 https://edgedl.me.gvt1.com/edgedl/chrome/chrome-for-testing/114.0.5735.133/mac-arm64/chrome-mac-arm64.zip\n",
      "mac-x64 https://edgedl.me.gvt1.com/edgedl/chrome/chrome-for-testing/114.0.5735.133/mac-x64/chrome-mac-x64.zip\n",
      "win32 https://edgedl.me.gvt1.com/edgedl/chrome/chrome-for-testing/114.0.5735.133/win32/chrome-win32.zip\n",
      "win64 https://edgedl.me.gvt1.com/edgedl/chrome/chrome-for-testing/114.0.5735.133/win64/chrome-win64.zip\n"
     ]
    }
   ],
   "source": [
    "for p in data['channels']['Stable']['downloads']['chrome']:\n",
    "    print(p['platform'], p['url'])"
   ]
  },
  {
   "cell_type": "code",
   "execution_count": 13,
   "metadata": {},
   "outputs": [
    {
     "data": {
      "text/plain": [
       "'https://edgedl.me.gvt1.com/edgedl/chrome/chrome-for-testing/114.0.5735.133/win64/chrome-win64.zip'"
      ]
     },
     "execution_count": 13,
     "metadata": {},
     "output_type": "execute_result"
    }
   ],
   "source": [
    "url_win64 = data['channels']['Stable']['downloads']['chrome'][4]['url']\n",
    "url_win64"
   ]
  },
  {
   "cell_type": "code",
   "execution_count": 14,
   "metadata": {},
   "outputs": [
    {
     "data": {
      "text/plain": [
       "'chrome-win64.zip'"
      ]
     },
     "execution_count": 14,
     "metadata": {},
     "output_type": "execute_result"
    }
   ],
   "source": [
    "# Get the file name from the url path\n",
    "import os\n",
    "os.path.basename(url_win64)"
   ]
  },
  {
   "cell_type": "code",
   "execution_count": 15,
   "metadata": {},
   "outputs": [
    {
     "data": {
      "text/plain": [
       "('chrome-win64.zip', <http.client.HTTPMessage at 0x259f85ae260>)"
      ]
     },
     "execution_count": 15,
     "metadata": {},
     "output_type": "execute_result"
    }
   ],
   "source": [
    "# Download the file\n",
    "import urllib.request\n",
    "urllib.request.urlretrieve(url_win64, os.path.basename(url_win64))"
   ]
  },
  {
   "cell_type": "code",
   "execution_count": 17,
   "metadata": {},
   "outputs": [],
   "source": [
    "# unzip the file\n",
    "import zipfile\n",
    "with zipfile.ZipFile(os.path.basename(url_win64), 'r') as zip_ref:\n",
    "    zip_ref.extractall('chrome-win64')"
   ]
  },
  {
   "cell_type": "code",
   "execution_count": 19,
   "metadata": {},
   "outputs": [
    {
     "data": {
      "text/plain": [
       "'chrome.exe'"
      ]
     },
     "execution_count": 19,
     "metadata": {},
     "output_type": "execute_result"
    }
   ],
   "source": [
    "# Copy the chrome.exe to the current directory\n",
    "import shutil\n",
    "shutil.copyfile('chrome-win64/chrome-win64/chrome.exe', 'chrome.exe')"
   ]
  },
  {
   "attachments": {},
   "cell_type": "markdown",
   "metadata": {},
   "source": [
    "## Get Cody Problems with Selenium"
   ]
  },
  {
   "cell_type": "code",
   "execution_count": 5,
   "metadata": {},
   "outputs": [],
   "source": [
    "from selenium import webdriver\n",
    "from selenium.webdriver.common.by import By\n",
    "driver = webdriver.Chrome()"
   ]
  },
  {
   "cell_type": "code",
   "execution_count": 6,
   "metadata": {},
   "outputs": [],
   "source": [
    "# Autenticate to Mathworks Account ydebray@mathworks.com\n",
    "url = \"https://www.mathworks.com/login\"\n",
    "driver.get(url)\n",
    "# driver.find_element(by=By.ID, value=\"userId\")\n",
    "# driver.find_element(by=By.XPATH, value='//*[@id=\"userId\"]').send_keys(\"username\")"
   ]
  },
  {
   "cell_type": "code",
   "execution_count": 7,
   "metadata": {},
   "outputs": [],
   "source": [
    "url = \"https://www.mathworks.com/matlabcentral/cody/\"\n",
    "driver.get(url)"
   ]
  },
  {
   "cell_type": "code",
   "execution_count": 8,
   "metadata": {},
   "outputs": [],
   "source": [
    "id = 1\n",
    "url = f\"https://www.mathworks.com/matlabcentral/cody/problems/{id}/solutions/new\"\n",
    "driver.get(url)"
   ]
  },
  {
   "cell_type": "code",
   "execution_count": 9,
   "metadata": {},
   "outputs": [
    {
     "data": {
      "text/plain": [
       "'Try out this test problem first.\\nGiven the variable x as your input, multiply it by two and put the result in y.\\nExamples:\\n Input  x = 2\\n Output y is 4\\n Input  x = 17\\n Output y is 34'"
      ]
     },
     "execution_count": 9,
     "metadata": {},
     "output_type": "execute_result"
    }
   ],
   "source": [
    "css_selector = \"[aria-labelledby='learnerProblemDescriptionAriaInfo']\"\n",
    "prompt = driver.find_element(by=By.CSS_SELECTOR, value=css_selector).text\n",
    "prompt"
   ]
  },
  {
   "cell_type": "code",
   "execution_count": 10,
   "metadata": {},
   "outputs": [
    {
     "data": {
      "text/plain": [
       "'function y = times2(x) % Do not edit this line.\\n  % Modify the line below so that the output y is twice the incoming value x\\n  y = x;\\n  % After you modify the code, press the \"Submit\" button, and you\\'re on your way.\\nend % Do not edit this line.\\n1\\n2\\n3\\n4\\n5\\n6\\n7\\n8\\n9'"
      ]
     },
     "execution_count": 10,
     "metadata": {},
     "output_type": "execute_result"
    }
   ],
   "source": [
    "css_selector2 = \"[aria-labelledby='learnerSolutionEditorAriaInfo']\"\n",
    "template = driver.find_element(by=By.CSS_SELECTOR, value=css_selector2).text\n",
    "template"
   ]
  },
  {
   "cell_type": "code",
   "execution_count": 12,
   "metadata": {},
   "outputs": [
    {
     "name": "stdout",
     "output_type": "stream",
     "text": [
      "times2\n",
      "nearestNumbers\n",
      "oneToTen\n"
     ]
    }
   ],
   "source": [
    "import re\n",
    "\n",
    "def extract_function_name(matlab_code):\n",
    "    patterns = [\n",
    "        r\"function\\s+\\w+\\s*=\\s*(\\w+)\\(\",\n",
    "        r\"function\\s+\\w+\\s*=\\s*(\\w+)\"\n",
    "    ]\n",
    "\n",
    "    for pattern in patterns:\n",
    "        match = re.search(pattern, matlab_code)\n",
    "        if match:\n",
    "            return match.group(1)  # Return the captured function name\n",
    "        else:\n",
    "            pattern = r\"function\\s+\\[(\\w+(\\s+\\w+)*)\\]\\s*=\\s*(\\w+)\\(\"\n",
    "            match = re.search(pattern, matlab_code)\n",
    "            if match:\n",
    "                return match.group(3)\n",
    "    return None  # Return None if no match found\n",
    "\n",
    "# Example usage\n",
    "matlab_code1 = 'function y = times2(x) % Do not edit this line.\\n  % Modify the line below so that the output y is twice the incoming value x\\n  y = x;\\n  % After you modify the code, press the \"Submit\" button, and you\\'re on your way.\\nend % Do not edit this line.\\n1\\n2\\n3\\n4\\n5\\n6\\n7\\n8\\n9'\n",
    "matlab_code2 = 'function [index1 index2] = nearestNumbers(A)\\nindex1 = 1;\\nindex2 = 2;'\n",
    "matlab_code3 = 'function x = oneToTen\\n  x = 0;\\nend'\n",
    "\n",
    "function_name1 = extract_function_name(matlab_code1)\n",
    "function_name2 = extract_function_name(matlab_code2)\n",
    "function_name3 = extract_function_name(matlab_code3)\n",
    "\n",
    "print(function_name1)\n",
    "print(function_name2)\n",
    "print(function_name3)\n"
   ]
  },
  {
   "cell_type": "code",
   "execution_count": 11,
   "metadata": {},
   "outputs": [
    {
     "name": "stdout",
     "output_type": "stream",
     "text": [
      "times2\n"
     ]
    }
   ],
   "source": [
    "import re\n",
    "\n",
    "def extract_function_name(matlab_code):\n",
    "    # Search for the function name pattern using regular expression\n",
    "    pattern = r\"function\\s+\\w+\\s*=\\s*(\\w+)\\(\"\n",
    "    match = re.search(pattern, matlab_code)\n",
    "\n",
    "    if match:\n",
    "        return match.group(1)  # Return the captured function name\n",
    "    else:\n",
    "        return None  # Return None if no match found\n",
    "\n",
    "# Example usage\n",
    "# matlab_code = 'function y = times2(x) % Do not edit this line.\\n  % Modify the line below so that the output y is twice the incoming value x\\n  y = x;\\n  % After you modify the code, press the \"Submit\" button, and you\\'re on your way.\\nend % Do not edit this line.\\n1\\n2\\n3\\n4\\n5\\n6\\n7\\n8\\n9'\n",
    "matlab_code = template\n",
    "\n",
    "function_name = extract_function_name(matlab_code)\n",
    "print(function_name)"
   ]
  },
  {
   "cell_type": "code",
   "execution_count": 12,
   "metadata": {},
   "outputs": [
    {
     "data": {
      "text/plain": [
       "\"% Use this area as a scratchpad to test code that you don't want to submit:\\nx = 1 + 2\\n% Or call your function:\\ntimes2(x)\\n% Note this code will NOT be used for submit\\n1\\n2\\n3\\n4\\n5\""
      ]
     },
     "execution_count": 12,
     "metadata": {},
     "output_type": "execute_result"
    }
   ],
   "source": [
    "css_selector3 = \"[aria-labelledby='learnerRunYourSolutionEditorAriaInfo']\"\n",
    "scratchpad = driver.find_element(by=By.CSS_SELECTOR, value=css_selector3).text\n",
    "scratchpad"
   ]
  },
  {
   "cell_type": "code",
   "execution_count": 13,
   "metadata": {},
   "outputs": [],
   "source": [
    "for e in driver.find_elements(by=By.CLASS_NAME,value=\"problem_test_parent\"):\n",
    "    e.click()"
   ]
  },
  {
   "cell_type": "code",
   "execution_count": 16,
   "metadata": {},
   "outputs": [
    {
     "data": {
      "text/plain": [
       "['%%\\nassert(isequal(times2(1),2));\\n1\\n2\\n3\\n4\\nTest 2\\n',\n",
       " '%%\\nassert(isequal(times2(11),22));\\n1\\n2\\n3\\n4\\nTest 3\\n',\n",
       " '%%\\nassert(isequal(times2(-3),-6));\\n1\\n2\\n3\\n4\\nTest 4\\n',\n",
       " '%%\\nassert(isequal(times2(29),58));\\n1\\n2']"
      ]
     },
     "execution_count": 16,
     "metadata": {},
     "output_type": "execute_result"
    }
   ],
   "source": [
    "css_selector4 = \"[aria-labelledby='learnerSubmissionResultsAriaInfo']\"\n",
    "testcases = driver.find_element(by=By.CSS_SELECTOR, value=css_selector4).text\n",
    "testcases.split('Test Code:\\n')[1:]"
   ]
  },
  {
   "cell_type": "code",
   "execution_count": 43,
   "metadata": {},
   "outputs": [
    {
     "data": {
      "text/plain": [
       "['%% test 1\\nassert(isequal(times2(1),2));',\n",
       " '%% test 2\\nassert(isequal(times2(11),22));',\n",
       " '%% test 3\\nassert(isequal(times2(-3),-6));',\n",
       " '%% test 4\\nassert(isequal(times2(29),58));']"
      ]
     },
     "execution_count": 43,
     "metadata": {},
     "output_type": "execute_result"
    }
   ],
   "source": [
    "testsuite = [t.split('\\n1')[0].replace('%%\\n',f'%% test {i+1}\\n') for i,t in enumerate(testcases.split('Test Code:\\n')[1:])]\n",
    "testsuite"
   ]
  },
  {
   "cell_type": "code",
   "execution_count": 136,
   "metadata": {},
   "outputs": [],
   "source": [
    "# create a directory for the problem\n",
    "import os\n",
    "os.mkdir(f'problem{id}')"
   ]
  },
  {
   "cell_type": "code",
   "execution_count": 44,
   "metadata": {},
   "outputs": [],
   "source": [
    "# save the test suite in the directory\n",
    "with open(f'problem{id}/{function_name}Test.m', 'w') as f:\n",
    "    f.write('\\n'.join(testsuite))"
   ]
  },
  {
   "cell_type": "code",
   "execution_count": 119,
   "metadata": {},
   "outputs": [
    {
     "data": {
      "text/plain": [
       "'function y = times2(x) % Do not edit this line.\\n  % Modify the line below so that the output y is twice the incoming value x\\n  y = x;\\n  % After you modify the code, press the \"Submit\" button, and you\\'re on your way.\\nend % Do not edit this line.\\n1\\n2\\n3\\n4\\n5\\n6\\n7\\n8\\n9'"
      ]
     },
     "execution_count": 119,
     "metadata": {},
     "output_type": "execute_result"
    }
   ],
   "source": [
    "# other approaches\n",
    "driver.find_element(by=By.CLASS_NAME, value=\"learner_code_fields\").text\n",
    "# driver.find_element(by=By.CLASS_NAME, value=\"lti_editor\").text\n",
    "# driver.find_element(by=By.CLASS_NAME, value=\"mwRichTextComponentDocument\").text"
   ]
  },
  {
   "cell_type": "code",
   "execution_count": 110,
   "metadata": {},
   "outputs": [],
   "source": [
    "# driver.quit()"
   ]
  },
  {
   "attachments": {},
   "cell_type": "markdown",
   "metadata": {},
   "source": [
    "## Solve with GPT-3.5"
   ]
  },
  {
   "cell_type": "code",
   "execution_count": 99,
   "metadata": {},
   "outputs": [],
   "source": [
    "# Manual entry of the prompt and template\n",
    "prompt = \"\"\"\n",
    "Try out this test problem first.\n",
    "Given the variable x as your input, multiply it by two and put the result in y.\n",
    "Examples:\n",
    " Input  x = 2\n",
    " Output y is 4\n",
    "\n",
    " Input  x = 17\n",
    " Output y is 34\n",
    "\"\"\"\n",
    "template = \"\"\"\n",
    "function y = times2(x) % Do not edit this line.\n",
    "\n",
    "  % Modify the line below so that the output y is twice the incoming value x\n",
    "\n",
    "  y = x;\n",
    "\n",
    "  % After you modify the code, press the \"Submit\" button, and you're on your way.\n",
    "\n",
    "end % Do not edit this line.\n",
    "\"\"\"\n",
    "scratchpad = \"\"\"\n",
    "% Use this area as a scratchpad to test code that you don't want to submit:\n",
    "x = 1 + 2\n",
    "% Or call your function:\n",
    "times2(x)\n",
    "% Note this code will NOT be used for submit\n",
    "\"\"\"\n",
    "function_name = 'times2'"
   ]
  },
  {
   "cell_type": "code",
   "execution_count": 19,
   "metadata": {},
   "outputs": [],
   "source": [
    "import openai\n",
    "import tomli\n",
    "with open('secrets.toml','rb') as f:\n",
    "    toml_dict = tomli.load(f)\n",
    "openai.api_key = toml_dict['OPEN_AI_KEY']"
   ]
  },
  {
   "cell_type": "code",
   "execution_count": 20,
   "metadata": {},
   "outputs": [],
   "source": [
    "messages = [\n",
    "            {\"role\": \"system\", \"content\": \"You are a helpful assistant that solves coding problems in MATLAB. reply only with the MATLAB code, without formatting or chit chat. Format the result as a function\"}, \n",
    "            {\"role\": \"user\", \"content\": \"This is the problem statement:\\n\"+prompt+\"\\n Integrate the result in the following function:\\n\"+template},\n",
    "            ]"
   ]
  },
  {
   "cell_type": "code",
   "execution_count": 21,
   "metadata": {},
   "outputs": [
    {
     "name": "stdout",
     "output_type": "stream",
     "text": [
      "function y = times2(x) % Do not edit this line.\n",
      "  % Modify the line below so that the output y is twice the incoming value x\n",
      "  y = 2 * x;\n",
      "  % After you modify the code, press the \"Submit\" button, and you're on your way.\n",
      "end % Do not edit this line.\n"
     ]
    }
   ],
   "source": [
    "res = openai.ChatCompletion.create(messages=messages, model=\"gpt-3.5-turbo\")\n",
    "solution = res['choices'][0]['message']['content']\n",
    "print(solution)"
   ]
  },
  {
   "cell_type": "code",
   "execution_count": 22,
   "metadata": {},
   "outputs": [],
   "source": [
    "with open(f'problem{id}/{function_name}.m','w') as f:\n",
    "    f.write(solution)"
   ]
  },
  {
   "attachments": {},
   "cell_type": "markdown",
   "metadata": {},
   "source": [
    "## Test code with MATLAB"
   ]
  },
  {
   "attachments": {},
   "cell_type": "markdown",
   "metadata": {},
   "source": [
    "https://www.mathworks.com/help/matlab/matlab_prog/write-script-based-unit-tests.html"
   ]
  },
  {
   "cell_type": "code",
   "execution_count": 23,
   "metadata": {},
   "outputs": [],
   "source": [
    "import matlab.engine\n",
    "eng = matlab.engine.start_matlab()"
   ]
  },
  {
   "cell_type": "code",
   "execution_count": 24,
   "metadata": {},
   "outputs": [
    {
     "data": {
      "text/plain": [
       "'C:\\\\Users\\\\ydebray\\\\Downloads\\\\cody'"
      ]
     },
     "execution_count": 24,
     "metadata": {},
     "output_type": "execute_result"
    }
   ],
   "source": [
    "eng.cd(f'problem{id}')\n",
    "# eng.cd('..')"
   ]
  },
  {
   "cell_type": "code",
   "execution_count": 25,
   "metadata": {},
   "outputs": [
    {
     "data": {
      "text/plain": [
       "4"
      ]
     },
     "execution_count": 25,
     "metadata": {},
     "output_type": "execute_result"
    }
   ],
   "source": [
    "eng.feval(function_name, 2) # function_name = 'times2'"
   ]
  },
  {
   "cell_type": "code",
   "execution_count": 37,
   "metadata": {},
   "outputs": [],
   "source": [
    "# execute the test suite\n",
    "results = eng.runtests()"
   ]
  },
  {
   "cell_type": "code",
   "execution_count": 39,
   "metadata": {},
   "outputs": [],
   "source": [
    "eng.workspace['results'] = results"
   ]
  },
  {
   "cell_type": "code",
   "execution_count": 40,
   "metadata": {},
   "outputs": [
    {
     "data": {
      "text/html": [
       "<br>results = <br><br>  1×4 <a href=\"matlab:helpPopup matlab.unittest.TestResult\" style=\"font-weight:bold\">TestResult</a> array with properties:<br><br>    Name<br>    Passed<br>    Failed<br>    Incomplete<br>    Duration<br>    Details<br><br>Totals:<br>   4 Passed, 0 Failed, 0 Incomplete.<br>   0.091226 seconds testing time.<br><br>"
      ],
      "text/plain": [
       "<IPython.core.display.HTML object>"
      ]
     },
     "execution_count": 40,
     "metadata": {},
     "output_type": "execute_result"
    }
   ],
   "source": [
    "logOut = eng.evalc('results')\n",
    "from IPython.core.display import HTML\n",
    "HTML(logOut.replace('\\n','<br>'))"
   ]
  },
  {
   "cell_type": "code",
   "execution_count": 45,
   "metadata": {},
   "outputs": [
    {
     "data": {
      "text/html": [
       "<br>rt =<br><br>  4×6 <a href=\"matlab:helpPopup table\" style=\"font-weight:bold\">table</a><br><br>            <strong>Name</strong>            <strong>Passed</strong>    <strong>Failed</strong>    <strong>Incomplete</strong>    <strong>Duration</strong>       <strong>Details</strong>   <br>    <strong>____________________</strong>    <strong>______</strong>    <strong>______</strong>    <strong>__________</strong>    <strong>_________</strong>    <strong>____________</strong><br><br>    {'times2Test/test1'}    true      false       false        0.018794    {1×1 struct}<br>    {'times2Test/test2'}    true      false       false       0.0052907    {1×1 struct}<br>    {'times2Test/test3'}    true      false       false       0.0051669    {1×1 struct}<br>    {'times2Test/test4'}    true      false       false       0.0041958    {1×1 struct}<br><br>"
      ],
      "text/plain": [
       "<IPython.core.display.HTML object>"
      ]
     },
     "execution_count": 45,
     "metadata": {},
     "output_type": "execute_result"
    }
   ],
   "source": [
    "logOut = eng.evalc('rt = table(results)')\n",
    "HTML(logOut.replace('\\n','<br>'))"
   ]
  },
  {
   "cell_type": "code",
   "execution_count": 46,
   "metadata": {},
   "outputs": [],
   "source": [
    "rt = eng.table(results)"
   ]
  },
  {
   "cell_type": "code",
   "execution_count": 48,
   "metadata": {},
   "outputs": [],
   "source": [
    "eng.writetable(rt,function_name+\".csv\",nargout=0)"
   ]
  },
  {
   "cell_type": "code",
   "execution_count": null,
   "metadata": {},
   "outputs": [],
   "source": [
    "# for id in range(1,50):\n",
    "#     try:\n",
    "#         eng.cd(f'cody/problem{id}/gpt-3.5-turbo')\n",
    "#         results = eng.runtests()\n",
    "#         rt = eng.table(results)\n",
    "#         eng.workspace['rt'] = rt\n",
    "#         eng.evalc(\"fileID = fopen('result.txt', 'w');if any(rt.Passed == false); fprintf(fileID, 'failed'); else; fprintf(fileID, 'passed'); end;fclose(fileID);\")\n",
    "#         status = eng.evalc(\"if any(rt.Passed == false); disp('failed'); else; disp('passed'); end;\")\n",
    "#         print(f'Problem {id} tested: {status}')\n",
    "#         eng.cd('../../..')\n",
    "#     except:\n",
    "#         print(f'Problem {id} failed')\n",
    "#         pass"
   ]
  },
  {
   "cell_type": "code",
   "execution_count": 41,
   "metadata": {},
   "outputs": [],
   "source": [
    "eng.desktop(nargout=0)"
   ]
  },
  {
   "cell_type": "code",
   "execution_count": 156,
   "metadata": {},
   "outputs": [],
   "source": [
    "eng.exit()"
   ]
  }
 ],
 "metadata": {
  "kernelspec": {
   "display_name": "env",
   "language": "python",
   "name": "python3"
  },
  "language_info": {
   "codemirror_mode": {
    "name": "ipython",
    "version": 3
   },
   "file_extension": ".py",
   "mimetype": "text/x-python",
   "name": "python",
   "nbconvert_exporter": "python",
   "pygments_lexer": "ipython3",
   "version": "3.10.10"
  },
  "orig_nbformat": 4
 },
 "nbformat": 4,
 "nbformat_minor": 2
}
