{
 "cells": [
  {
   "attachments": {},
   "cell_type": "markdown",
   "metadata": {},
   "source": [
    "# Question Answering"
   ]
  },
  {
   "attachments": {},
   "cell_type": "markdown",
   "metadata": {},
   "source": [
    "## PDF reader"
   ]
  },
  {
   "attachments": {},
   "cell_type": "markdown",
   "metadata": {},
   "source": [
    "https://archive.org/details/crossingthechasm_202002"
   ]
  },
  {
   "cell_type": "code",
   "execution_count": null,
   "metadata": {},
   "outputs": [],
   "source": [
    "!pip install langchain openai chromadb tiktoken pypdf llama-index tqdm"
   ]
  },
  {
   "cell_type": "code",
   "execution_count": 1,
   "metadata": {},
   "outputs": [],
   "source": [
    "from langchain.document_loaders import TextLoader\n",
    "from langchain.document_loaders import PyPDFLoader"
   ]
  },
  {
   "cell_type": "code",
   "execution_count": 5,
   "metadata": {},
   "outputs": [],
   "source": [
    "import os\n",
    "import tomli\n",
    "import openai\n",
    "with open('../.streamlit/secrets.toml','rb') as f:\n",
    "    toml_dict = tomli.load(f)\n",
    "openai.api_key = toml_dict['OPEN_AI_KEY']\n",
    "os.environ['OPENAI_API_KEY'] = toml_dict['OPEN_AI_KEY']\n",
    "# os.environ['PINECONE_API_KEY'] = toml_dict['PINECONE_API_KEY']\n",
    "# os.environ['PINECONE_API_ENV'] = toml_dict['PINECONE_API_ENV']"
   ]
  },
  {
   "cell_type": "code",
   "execution_count": 4,
   "metadata": {},
   "outputs": [],
   "source": [
    "\n",
    "# load document\n",
    "loader = PyPDFLoader(\"../book/Crossing the Chasm.pdf\")\n",
    "documents = loader.load()\n"
   ]
  },
  {
   "cell_type": "code",
   "execution_count": 2,
   "metadata": {},
   "outputs": [],
   "source": [
    "from llama_index import download_loader\n",
    "\n",
    "PDFReader = download_loader(\"PDFReader\")\n",
    "\n",
    "loader = PDFReader()\n",
    "documents = loader.load_data(\"../book/Crossing the Chasm.pdf\")"
   ]
  },
  {
   "attachments": {},
   "cell_type": "markdown",
   "metadata": {},
   "source": [
    "### Create index"
   ]
  },
  {
   "cell_type": "code",
   "execution_count": 6,
   "metadata": {},
   "outputs": [
    {
     "name": "stderr",
     "output_type": "stream",
     "text": [
      "INFO:llama_index.token_counter.token_counter:> [build_index_from_nodes] Total LLM token usage: 0 tokens\n",
      "INFO:llama_index.token_counter.token_counter:> [build_index_from_nodes] Total embedding token usage: 118920 tokens\n"
     ]
    }
   ],
   "source": [
    "from llama_index import GPTSimpleVectorIndex\n",
    "\n",
    "index = GPTSimpleVectorIndex.from_documents(documents)"
   ]
  },
  {
   "cell_type": "code",
   "execution_count": 7,
   "metadata": {},
   "outputs": [
    {
     "name": "stderr",
     "output_type": "stream",
     "text": [
      "INFO:llama_index.token_counter.token_counter:> [query] Total LLM token usage: 4188 tokens\n",
      "INFO:llama_index.token_counter.token_counter:> [query] Total embedding token usage: 9 tokens\n"
     ]
    },
    {
     "name": "stdout",
     "output_type": "stream",
     "text": [
      "\n",
      "\n",
      "Vendor-oriented pricing is a function of internal issues, beginning with cost of goods, and extending to cost of sales, cost of overhead, cost of capital, promised rate of risk-adjusted return, and any number of other factors. These factors are critical to being able to manage an enterprise profitably on an ongoing basis. To leave the chasm behind, the high-tech enterprise must accept that it is going through a phase and act competently with that knowledge. This means redirecting energy towards the concerns of a vendor-oriented pricing strategy, which includes understanding the market-visible issues that are impacted by the internal factors. This allows the enterprise to make informed decisions about pricing that will maximize profits and ensure the long-term success of the business.\n"
     ]
    }
   ],
   "source": [
    "query = \"what is Vendor-Oriented Pricing?\"\n",
    "response = index.query(query)"
   ]
  },
  {
   "cell_type": "code",
   "execution_count": 9,
   "metadata": {},
   "outputs": [
    {
     "name": "stdout",
     "output_type": "stream",
     "text": [
      "\n",
      "\n",
      "Vendor-oriented pricing is a function of internal issues, beginning with cost of goods, and extending to cost of sales, cost of overhead, cost of capital, promised rate of risk-adjusted return, and any number of other factors. These factors are critical to being able to manage an enterprise profitably on an ongoing basis. To leave the chasm behind, the high-tech enterprise must accept that it is going through a phase and act competently with that knowledge. This means redirecting energy towards the concerns of a vendor-oriented pricing strategy, which includes understanding the market-visible issues that are impacted by the internal factors. This allows the enterprise to make informed decisions about pricing that will maximize profits and ensure the long-term success of the business.\n"
     ]
    }
   ],
   "source": [
    "print(response)"
   ]
  },
  {
   "attachments": {},
   "cell_type": "markdown",
   "metadata": {},
   "source": [
    "### Create Embeddings\n"
   ]
  },
  {
   "cell_type": "code",
   "execution_count": null,
   "metadata": {},
   "outputs": [],
   "source": [
    "embed_model = \"text-embedding-ada-002\"\n",
    "\n",
    "res = openai.Embedding.create(\n",
    "    input=[\n",
    "        \"Sample document text goes here\",\n",
    "        \"there will be several phrases in each batch\"\n",
    "    ], engine=embed_model\n",
    ")"
   ]
  },
  {
   "attachments": {},
   "cell_type": "markdown",
   "metadata": {},
   "source": [
    "### Create Pinecone DB"
   ]
  },
  {
   "cell_type": "code",
   "execution_count": null,
   "metadata": {},
   "outputs": [],
   "source": [
    "import pinecone \n",
    "\n",
    "pinecone.init(api_key=os.environ['PINECONE_API_KEY'], environment=os.environ['PINECONE_API_ENV']) \n",
    "# pinecone.list_indexes()\n",
    "index = pinecone.Index('crossing-the-chasm') "
   ]
  },
  {
   "attachments": {},
   "cell_type": "markdown",
   "metadata": {},
   "source": [
    "## QA"
   ]
  },
  {
   "attachments": {},
   "cell_type": "markdown",
   "metadata": {},
   "source": [
    "### load_qa_chain"
   ]
  },
  {
   "cell_type": "code",
   "execution_count": 16,
   "metadata": {},
   "outputs": [],
   "source": [
    "# load document\n",
    "loader = PyPDFLoader(\"book/Crossing the Chasm-202-217.pdf\")\n",
    "documents = loader.load()\n"
   ]
  },
  {
   "cell_type": "code",
   "execution_count": 14,
   "metadata": {},
   "outputs": [
    {
     "name": "stderr",
     "output_type": "stream",
     "text": [
      "Retrying langchain.chat_models.openai.ChatOpenAI.completion_with_retry.<locals>._completion_with_retry in 4.0 seconds as it raised Timeout: Request timed out: HTTPSConnectionPool(host='api.openai.com', port=443): Read timed out. (read timeout=60).\n"
     ]
    },
    {
     "data": {
      "text/plain": [
       "'The given portion of the document does not provide a clear definition of Vendor-Oriented Pricing. However, it mentions that \"vendor-oriented pricing represents the least sound basis for pricing decisions during the chasm period.\"'"
      ]
     },
     "execution_count": 14,
     "metadata": {},
     "output_type": "execute_result"
    }
   ],
   "source": [
    "from langchain.chains.question_answering import load_qa_chain\n",
    "from langchain.chat_models import ChatOpenAI\n",
    "chat = ChatOpenAI(model_name='gpt-3.5-turbo')\n",
    "\n",
    "chain = load_qa_chain(llm=chat, chain_type=\"map_reduce\")\n",
    "query = \"what is Vendor-Oriented Pricing?\"\n",
    "chain.run(input_documents=documents, question=query)"
   ]
  },
  {
   "attachments": {},
   "cell_type": "markdown",
   "metadata": {},
   "source": [
    "### RetrievalQA"
   ]
  },
  {
   "cell_type": "code",
   "execution_count": 7,
   "metadata": {},
   "outputs": [],
   "source": [
    "from langchain.chains import RetrievalQA\n",
    "from langchain.indexes import VectorstoreIndexCreator\n",
    "from langchain.text_splitter import CharacterTextSplitter\n",
    "from langchain.embeddings import OpenAIEmbeddings\n",
    "from langchain.vectorstores import Chroma"
   ]
  },
  {
   "cell_type": "code",
   "execution_count": 8,
   "metadata": {},
   "outputs": [
    {
     "name": "stderr",
     "output_type": "stream",
     "text": [
      "Using embedded DuckDB without persistence: data will be transient\n"
     ]
    }
   ],
   "source": [
    "# split the documents into chunks\n",
    "text_splitter = CharacterTextSplitter(chunk_size=1000, chunk_overlap=0)\n",
    "texts = text_splitter.split_documents(documents)\n",
    "# select which embeddings we want to use\n",
    "embeddings = OpenAIEmbeddings()\n",
    "# create the vectorestore to use as the index\n",
    "db = Chroma.from_documents(texts, embeddings)"
   ]
  },
  {
   "cell_type": "code",
   "execution_count": 10,
   "metadata": {},
   "outputs": [],
   "source": [
    "# expose this index in a retriever interface\n",
    "retriever = db.as_retriever(search_type=\"similarity\", search_kwargs={\"k\":3})\n",
    "# create a chain to answer questions \n",
    "qa = RetrievalQA.from_chain_type(\n",
    "    llm=chat, chain_type=\"stuff\", retriever=retriever, return_source_documents=True)\n",
    "query = \"what is Vendor-Oriented Pricing?\"\n",
    "result = qa({\"query\": query})"
   ]
  },
  {
   "cell_type": "code",
   "execution_count": 11,
   "metadata": {},
   "outputs": [
    {
     "data": {
      "text/plain": [
       "{'query': 'what is Vendor-Oriented Pricing?',\n",
       " 'result': 'Vendor-oriented pricing is a pricing strategy that is based on internal factors such as the cost of goods, cost of sales, cost of overhead, cost of capital, promised rate of risk-adjusted return, and any number of other factors critical to managing an enterprise profitably on an ongoing basis. Its impact is on the number of transactions required to create a given amount of annual revenue. It sets the distribution channel decision by establishing a price-point ballpark that puts the product in the direct sales, web self-service, or sales 2.0 camp. The pricing strategy is not the most sound basis for pricing decisions during the chasm period, as it requires being almost entirely externally focused- both on the new demands of the mainstream customer and the new relationship you are trying to build with a mainstream channel.',\n",
       " 'source_documents': [Document(page_content='208 Crossing the Chasm\\nVendor -Oriented Pricing\\nVendor-oriented pricing is a function of internal issues, begin\\xad\\nning with cost of goods , and extending to cost of sales, cost of \\noverhead, cost of capital, promised rate of risk-adjusted return, \\nand any number of other factors. These factors are critical to \\nbeing able to manage an enterprise profitably on an ongoi ng \\nbasis. None of these, however, has any immediate meaning in \\nthe marketplace. They take on meaning only as they impact \\nother market-visible issues.\\nFor example, vendor-oriented pricing typically sets the dis\\xad\\ntribution channel decision by establishing a price-point ballpark \\nthat puts the produc t in the direct sales, Web self-service, or \\nSales 2.0 camp. Moreover, once the produc t is in the market, \\nvendor-oriented factors can make a big impact if, for example, \\nthey allow for a low-cost pricing advantage in a late mainstream \\nmarket, or if they allow for operating margins that can fund \\nnew R&D for the next early market.\\nThe biggest impact of vendor-oriented pricing is on the \\nnumber of transactions required to create a given amount of \\nannua l revenue. Suppos e the target were $10 million, which if \\nit came from a single beachhead segment is a reasonable revenue \\nstream to sugge st you have successfully crossed the chasm. In an \\nOEM model fulfilled through two-tier distribution, that could \\nbe the result of just one or two big design wins. In a direct sales \\nmodel, it is probably more like twenty to forty transactions, \\nwith half of it coming from perhaps the top five. In a Sales \\n2.0 model, you would probably multiply that by ten—s ay, 200 \\nto 400 transactions. And in a VAR-enabled model going after \\nsmall businesses, multiply by another ten, and for a consumer \\nhigh-volume model, still another ten—s ay, 20,000—40,000 \\ntransactions averaging around $25/ month.', metadata={'source': 'Crossing the Chasm.pdf', 'page': 212}),\n",
       "  Document(page_content='Launch the Invasion 209\\nAs you can see, each of these price points will call into being \\na different management perspective on the sales funnel, top to \\nbottom, from suspect to prospect to qualified lead all the way to \\nclosed customer. The higher the volume, the more transactional \\nthe process, and the more you depend on filling the top of the \\nfunnel. The higher the price, the more relationship-oriented the \\nprocess, the more you focus on the bottom of the funnel. And, \\nyes, with Sales 2.0 you do tend to focus most on the middle of \\nthe funnel, where process effectiveness and efficiency have their \\nbiggest impacts.\\nThat all said, vendor-oriented pricing represents the least \\nsound basis for pricing decisions during the chasm period. This \\nis a time when you must be almost entirely externally focused— \\nboth on the new demands of the mainstream customer and the \\nnew relationship you are trying to build with a mainstream \\nchannel. Indeed, becausb of the primary importance of secur\\xad\\ning ongoing means of access to the mainstream, this latter issue \\nshould be the number-one factor for pricing decisions during \\nthis period.\\nDistribution-Oriented Pricing\\nFrom a distribution perspective, there are two pricing issues that \\nhave significant impact on channel motivation:\\n• Is it priced to sell?\\n• Is it worthwhile to sell?\\nBeing priced to sell means that price does not become a \\nmajor issue during the sales cycle. Companies crossing the \\nchasm, coming from success in the early market with visionary \\ncustomers, typically have their products priced too high. Price', metadata={'source': 'Crossing the Chasm.pdf', 'page': 213}),\n",
       "  Document(page_content='206 Crossing the Chasm\\ntherefore, that the channel/strategy fit be a good one, and there\\nis no shame in switching channels if your first choice is not\\nbearing proper fruit.\\nDistribution-Oriented Pricing\\nPricing decisions are among the hardest for management groups\\nto reach consensus on. The problem is that there are so many\\nperspectives competing for the controlling influence. In this sec\\xad\\ntion we are going to sort out some of those perspectives and set\\nout some rational guidelines for pricing during the chasm period.\\nCustomer-Oriented Pricing\\nThe first perspective to set on pricing is the customers’, and, as\\nwe noted in the section on discovering the chasm, that varies\\ndramatically with their psychographics. Visionaries—the cus\\xad\\ntomers dominating the early market’s development—are rela\\xad\\ntively price-insensitive. Seeking a strategic leap forward, with\\nan order-of-magnitude return on investment, they are con\\xad\\nvinced that any immediate costs are insignificant when com\\xad\\npared with the end result. Indeed, they want to make sure there\\nis, if anything, extra money in the price, because they know they\\nare going to need special service, and they want their vendors to\\nhave the funding to provide it. There is even a kind of prestige\\nin buying the high-priced alternative. All this is pure value-based\\npricing. Because of the high value placed on the end result, the\\nproduct price has a high umbrella under which it can unfold.\\nAt the other end of the market are the conservatives. They\\nwant low pricing. They have waited a long time before buying', metadata={'source': 'Crossing the Chasm.pdf', 'page': 210})]}"
      ]
     },
     "execution_count": 11,
     "metadata": {},
     "output_type": "execute_result"
    }
   ],
   "source": [
    "result"
   ]
  },
  {
   "cell_type": "code",
   "execution_count": 12,
   "metadata": {},
   "outputs": [
    {
     "data": {
      "text/plain": [
       "'Vendor-oriented pricing is a pricing strategy that is based on internal factors such as the cost of goods, cost of sales, cost of overhead, cost of capital, promised rate of risk-adjusted return, and any number of other factors critical to managing an enterprise profitably on an ongoing basis. Its impact is on the number of transactions required to create a given amount of annual revenue. It sets the distribution channel decision by establishing a price-point ballpark that puts the product in the direct sales, web self-service, or sales 2.0 camp. The pricing strategy is not the most sound basis for pricing decisions during the chasm period, as it requires being almost entirely externally focused- both on the new demands of the mainstream customer and the new relationship you are trying to build with a mainstream channel.'"
      ]
     },
     "execution_count": 12,
     "metadata": {},
     "output_type": "execute_result"
    }
   ],
   "source": [
    "result['result']"
   ]
  },
  {
   "attachments": {},
   "cell_type": "markdown",
   "metadata": {},
   "source": [
    "### VectorstoreIndexCreator"
   ]
  },
  {
   "attachments": {},
   "cell_type": "markdown",
   "metadata": {},
   "source": [
    "Wrapper for the logic above\n",
    "\n",
    "Source:\n",
    "\n",
    "https://python.langchain.com/en/latest/modules/chains/getting_started.html\n",
    "https://github.com/hwchase17/langchain/blob/master/langchain/indexes/vectorstore.py#L21-L74"
   ]
  },
  {
   "cell_type": "code",
   "execution_count": null,
   "metadata": {},
   "outputs": [],
   "source": [
    "index = VectorstoreIndexCreator(\n",
    "    # split the documents into chunks\n",
    "    text_splitter=CharacterTextSplitter(chunk_size=1000, chunk_overlap=0),\n",
    "    # select which embeddings we want to use\n",
    "    embedding=OpenAIEmbeddings(),\n",
    "    # use Chroma as the vectorestore to index and search embeddings\n",
    "    vectorstore_cls=Chroma\n",
    ").from_loaders([loader])\n",
    "index.query(llm=chat, question=query, chain_type=\"stuff\")"
   ]
  },
  {
   "attachments": {},
   "cell_type": "markdown",
   "metadata": {},
   "source": [
    "### ConversationalRetrievalChain"
   ]
  },
  {
   "attachments": {},
   "cell_type": "markdown",
   "metadata": {},
   "source": [
    "conversation memory + RetrievalQAChain\n",
    "\n",
    "Allow for passing in chat history which can be used for follow up questions.\n",
    "\n",
    "Source: https://python.langchain.com/en/latest/modules/chains/index_examples/chat_vector_db.html"
   ]
  },
  {
   "cell_type": "code",
   "execution_count": null,
   "metadata": {},
   "outputs": [],
   "source": [
    "from langchain.chains import ConversationalRetrievalChain"
   ]
  },
  {
   "cell_type": "code",
   "execution_count": null,
   "metadata": {},
   "outputs": [],
   "source": [
    "# split the documents into chunks\n",
    "text_splitter = CharacterTextSplitter(chunk_size=1000, chunk_overlap=0)\n",
    "texts = text_splitter.split_documents(documents)\n",
    "# select which embeddings we want to use\n",
    "embeddings = OpenAIEmbeddings()\n",
    "# create the vectorestore to use as the index\n",
    "db = Chroma.from_documents(texts, embeddings)\n",
    "# expose this index in a retriever interface\n",
    "retriever = db.as_retriever(search_type=\"similarity\", search_kwargs={\"k\":2})\n",
    "# create a chain to answer questions \n",
    "qa = ConversationalRetrievalChain.from_llm(chat, retriever)\n",
    "chat_history = []\n",
    "result = qa({\"question\": query, \"chat_history\": chat_history})"
   ]
  },
  {
   "cell_type": "code",
   "execution_count": null,
   "metadata": {},
   "outputs": [],
   "source": [
    "result[\"answer\"]"
   ]
  },
  {
   "cell_type": "code",
   "execution_count": null,
   "metadata": {},
   "outputs": [],
   "source": [
    "chat_history = [(query, result[\"answer\"])]\n",
    "query = \"How does it differ from Distribution-Oriented Pricing?\"\n",
    "result = qa({\"question\": query, \"chat_history\": chat_history})\n"
   ]
  },
  {
   "cell_type": "code",
   "execution_count": null,
   "metadata": {},
   "outputs": [],
   "source": [
    "chat_history"
   ]
  },
  {
   "cell_type": "code",
   "execution_count": null,
   "metadata": {},
   "outputs": [],
   "source": [
    "result['answer']"
   ]
  }
 ],
 "metadata": {
  "kernelspec": {
   "display_name": "Python 3",
   "language": "python",
   "name": "python3"
  },
  "language_info": {
   "codemirror_mode": {
    "name": "ipython",
    "version": 3
   },
   "file_extension": ".py",
   "mimetype": "text/x-python",
   "name": "python",
   "nbconvert_exporter": "python",
   "pygments_lexer": "ipython3",
   "version": "3.10.4"
  },
  "orig_nbformat": 4
 },
 "nbformat": 4,
 "nbformat_minor": 2
}
