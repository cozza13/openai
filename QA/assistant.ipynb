{
 "cells": [
  {
   "cell_type": "markdown",
   "metadata": {},
   "source": [
    "# Knowledge Retrieval\n",
    "\n",
    "https://platform.openai.com/docs/assistants/tools/knowledge-retrieval"
   ]
  },
  {
   "cell_type": "code",
   "execution_count": 2,
   "metadata": {},
   "outputs": [],
   "source": [
    "from openai import OpenAI\n",
    "import os, toml\n",
    "secrets = toml.load(\"../.streamlit/secrets.toml\")\n",
    "os.environ['OPENAI_API_KEY'] = secrets['OPEN_AI_KEY']\n",
    "client = OpenAI(\n",
    "    # defaults to os.environ.get(\"OPENAI_API_KEY\")\n",
    ")"
   ]
  },
  {
   "cell_type": "markdown",
   "metadata": {},
   "source": [
    "If you enable retrieval for a specific Assistant, all the files attached will be automatically indexed and you will be charged the $0.20/GB per assistant per day. You can enabled/disable retrieval by using the Modify Assistant endpoint."
   ]
  },
  {
   "cell_type": "code",
   "execution_count": 6,
   "metadata": {},
   "outputs": [],
   "source": [
    "import requests\n",
    "\n",
    "url = \"https://www.mathworks.com/help/pdf_doc/matlab/learn_matlab.pdf\"\n",
    "response = requests.get(url)\n",
    "binary_data = response.content\n",
    "\n",
    "# You can now use the binary data as needed\n",
    "# For example, you can save it to a file\n",
    "# with open(\"data/learn_matlab.pdf\", \"wb\") as file:\n",
    "#     file.write(binary_data)\n"
   ]
  },
  {
   "cell_type": "code",
   "execution_count": 7,
   "metadata": {},
   "outputs": [
    {
     "data": {
      "text/plain": [
       "FileObject(id='file-9SceeVNRanZno0c3TzGwSwtj', bytes=2012002, created_at=1705090985, filename='upload', object='file', purpose='assistants', status='processed', status_details=None)"
      ]
     },
     "execution_count": 7,
     "metadata": {},
     "output_type": "execute_result"
    }
   ],
   "source": [
    "# Upload a file with an \"assistants\" purpose\n",
    "file = client.files.create(\n",
    "  file=binary_data,\n",
    "  purpose='assistants'\n",
    ")\n",
    "file"
   ]
  },
  {
   "cell_type": "code",
   "execution_count": 8,
   "metadata": {},
   "outputs": [
    {
     "data": {
      "text/plain": [
       "Assistant(id='asst_lsvO9XkKXRoPnOqglWWVQJ8q', created_at=1705091060, description=None, file_ids=['file-9SceeVNRanZno0c3TzGwSwtj'], instructions='You are a MATLAB Assistant. Use your knowledge base to best respond to customer queries.', metadata={}, model='gpt-4-1106-preview', name='MATLAB Primer', object='assistant', tools=[ToolRetrieval(type='retrieval')])"
      ]
     },
     "execution_count": 8,
     "metadata": {},
     "output_type": "execute_result"
    }
   ],
   "source": [
    "# Add the file to the assistant\n",
    "assistant = client.beta.assistants.create(\n",
    "  name=\"MATLAB Primer\",\n",
    "  instructions=\"You are a MATLAB Assistant. Use your knowledge base to best respond to customer queries.\",\n",
    "  model=\"gpt-4-1106-preview\",\n",
    "  tools=[{\"type\": \"retrieval\"}],\n",
    "  file_ids=[file.id]\n",
    ")\n",
    "assistant"
   ]
  },
  {
   "cell_type": "code",
   "execution_count": 9,
   "metadata": {},
   "outputs": [],
   "source": [
    "thread = client.beta.threads.create(\n",
    "  messages=[\n",
    "    {\n",
    "      \"role\": \"user\",\n",
    "      \"content\": \"how to write text in string arrays\",\n",
    "      \"file_ids\": [file.id]\n",
    "    }\n",
    "  ]\n",
    ")"
   ]
  },
  {
   "cell_type": "code",
   "execution_count": 10,
   "metadata": {},
   "outputs": [
    {
     "data": {
      "text/plain": [
       "Run(id='run_KSVHvi78aaZfJvDiYQXQVCHT', assistant_id='asst_lsvO9XkKXRoPnOqglWWVQJ8q', cancelled_at=None, completed_at=None, created_at=1705091672, expires_at=1705092272, failed_at=None, file_ids=['file-9SceeVNRanZno0c3TzGwSwtj'], instructions='You are a MATLAB Assistant. Use your knowledge base to best respond to customer queries.', last_error=None, metadata={}, model='gpt-4-1106-preview', object='thread.run', required_action=None, started_at=None, status='queued', thread_id='thread_VURvtaDMGSDqU8EHXPJx81fn', tools=[ToolAssistantToolsRetrieval(type='retrieval')])"
      ]
     },
     "execution_count": 10,
     "metadata": {},
     "output_type": "execute_result"
    }
   ],
   "source": [
    "run = client.beta.threads.runs.create(\n",
    "    thread_id=thread.id,\n",
    "    assistant_id=assistant.id,\n",
    "    # instructions=\"Please address the user as Jane Doe. The user has a premium account.\"\n",
    "    )\n",
    "run"
   ]
  },
  {
   "cell_type": "code",
   "execution_count": 11,
   "metadata": {},
   "outputs": [
    {
     "name": "stdout",
     "output_type": "stream",
     "text": [
      "assistant\n",
      "In MATLAB, you can write text into string arrays using either double quotes (`\" \"`) for creating string scalars, or curly braces (`{ }`) when you want to manually create a cell array of character vectors. Below are examples of how you can do this:\n",
      "\n",
      "```matlab\n",
      "% Using double quotes to create a string array (recommended)\n",
      "strArray = [\"hello\", \"world\", \"this\", \"is\", \"a\", \"string\", \"array\"];\n",
      "\n",
      "% Using single quotes to create a cell array of character vectors\n",
      "cellArrayOfStrings = {'hello', 'world', 'this', 'is', 'a', 'string', 'array'};\n",
      "\n",
      "% Adding a new text into an existing string array\n",
      "strArray = [strArray, \"new text\"];\n",
      "\n",
      "% If you have a cell array of character vectors, you can add another text like this:\n",
      "cellArrayOfStrings = [cellArrayOfStrings, {'another text'}];\n",
      "```\n",
      "\n",
      "String arrays are more versatile and generally recommended over cell arrays for text data since MATLAB introduced them in version R2016b. They support most operations that you would typically use with character arrays and provide additional functionality like broadcasting.\n",
      "\n",
      "Remember that if you're trying to write text into a string array that comes from other sources such as user input or files, you'll have to handle those inputs accordingly before adding them to the array.\n",
      "\n",
      "If you have issues specific to the file you uploaded, unfortunately, the file is not accessible with my current tool. If you need an example or assistance with a specific scenario in a file, please describe the scenario, or copy and paste the text here so I can assist you further. If there's an issue related to reading or writing strings from/to a file, please let me know, and I can guide you through the process.\n",
      "--\n",
      "user\n",
      "how to write text in string arrays\n",
      "--\n"
     ]
    }
   ],
   "source": [
    "messages = client.beta.threads.messages.list(\n",
    "  thread_id=thread.id\n",
    ")\n",
    "for m in messages.data:\n",
    "    print(m.role)\n",
    "    print(m.content[0].text.value)\n",
    "    print('--')"
   ]
  },
  {
   "cell_type": "code",
   "execution_count": 16,
   "metadata": {},
   "outputs": [
    {
     "name": "stdout",
     "output_type": "stream",
     "text": [
      "dict_keys(['data', 'object', 'first_id', 'last_id', 'has_more'])\n"
     ]
    }
   ],
   "source": [
    "print(messages.dict().keys())"
   ]
  },
  {
   "cell_type": "code",
   "execution_count": 22,
   "metadata": {},
   "outputs": [
    {
     "name": "stdout",
     "output_type": "stream",
     "text": [
      "In MATLAB, you can write text into string arrays using either double quotes (`\" \"`) for creating string scalars, or curly braces (`{ }`) when you want to manually create a cell array of character vectors. Below are examples of how you can do this:\n",
      "\n",
      "```matlab\n",
      "% Using double quotes to create a string array (recommended)\n",
      "strArray = [\"hello\", \"world\", \"this\", \"is\", \"a\", \"string\", \"array\"];\n",
      "\n",
      "% Using single quotes to create a cell array of character vectors\n",
      "cellArrayOfStrings = {'hello', 'world', 'this', 'is', 'a', 'string', 'array'};\n",
      "\n",
      "% Adding a new text into an existing string array\n",
      "strArray = [strArray, \"new text\"];\n",
      "\n",
      "% If you have a cell array of character vectors, you can add another text like this:\n",
      "cellArrayOfStrings = [cellArrayOfStrings, {'another text'}];\n",
      "```\n",
      "\n",
      "String arrays are more versatile and generally recommended over cell arrays for text data since MATLAB introduced them in version R2016b. They support most operations that you would typically use with character arrays and provide additional functionality like broadcasting.\n",
      "\n",
      "Remember that if you're trying to write text into a string array that comes from other sources such as user input or files, you'll have to handle those inputs accordingly before adding them to the array.\n",
      "\n",
      "If you have issues specific to the file you uploaded, unfortunately, the file is not accessible with my current tool. If you need an example or assistance with a specific scenario in a file, please describe the scenario, or copy and paste the text here so I can assist you further. If there's an issue related to reading or writing strings from/to a file, please let me know, and I can guide you through the process.\n"
     ]
    }
   ],
   "source": [
    "print(messages.data[0].content[0].text.value)"
   ]
  }
 ],
 "metadata": {
  "kernelspec": {
   "display_name": "env",
   "language": "python",
   "name": "python3"
  },
  "language_info": {
   "codemirror_mode": {
    "name": "ipython",
    "version": 3
   },
   "file_extension": ".py",
   "mimetype": "text/x-python",
   "name": "python",
   "nbconvert_exporter": "python",
   "pygments_lexer": "ipython3",
   "version": "3.10.4"
  }
 },
 "nbformat": 4,
 "nbformat_minor": 2
}
