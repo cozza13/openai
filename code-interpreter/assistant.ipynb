{
 "cells": [
  {
   "cell_type": "code",
   "execution_count": 2,
   "metadata": {},
   "outputs": [],
   "source": [
    "from openai import OpenAI\n",
    "import os, toml\n",
    "secrets = toml.load(\"../.streamlit/secrets.toml\")\n",
    "os.environ['OPENAI_API_KEY'] = secrets['OPEN_AI_KEY']\n",
    "client = OpenAI(\n",
    "    # defaults to os.environ.get(\"OPENAI_API_KEY\")\n",
    ")"
   ]
  },
  {
   "cell_type": "code",
   "execution_count": 3,
   "metadata": {},
   "outputs": [
    {
     "data": {
      "text/plain": [
       "Assistant(id='asst_do1pGfTj6rFPowBh7d0EtZpN', created_at=1699410542, description=None, file_ids=[], instructions='You are a personal math tutor. Write and run code to answer math questions.', metadata={}, model='gpt-4-1106-preview', name='Math Tutor', object='assistant', tools=[ToolCodeInterpreter(type='code_interpreter')])"
      ]
     },
     "execution_count": 3,
     "metadata": {},
     "output_type": "execute_result"
    }
   ],
   "source": [
    "assistant = client.beta.assistants.create(\n",
    "    name=\"BitGo RAG\",\n",
    "    instructions=\"You are an FAQ assistant for BitGo, always look at the attached files for all questions you are asked.  If you are looking at API requests make sure you have the full correct path. If you do not know the answer just say \"I do not know the answer\". When you are answering the questions do the following. Step 1. Think through the meaning of the question and break out if the person is wanting to know about API information, navigating the system, general information. The do the search with file_search. Step 2. Based on what you have from Step 1 you should answer the question by running a file_search function addressing each area they are interested in output them in a structured format.\",\n",
    "    tools=[{\"type\": \"file_search\"}],\n",
    "    model=\"gpt-4-turbo\"\n",
    ")\n",
    "assistant"
   ]
  },
  {
   "cell_type": "code",
   "execution_count": 4,
   "metadata": {},
   "outputs": [
    {
     "data": {
      "text/plain": [
       "'thread_n3xS8WjoEdzXVf8NPMTbRVbi'"
      ]
     },
     "execution_count": 4,
     "metadata": {},
     "output_type": "execute_result"
    }
   ],
   "source": [
    "# Create a thread\n",
    "thread = client.beta.threads.create()\n",
    "thread.id"
   ]
  },
  {
   "cell_type": "code",
   "execution_count": 5,
   "metadata": {},
   "outputs": [
    {
     "data": {
      "text/plain": [
       "ThreadMessage(id='msg_MWA07EToVkTyeA2FeOdZsBvD', assistant_id=None, content=[MessageContentText(text=Text(annotations=[], value='I need to solve the equation `3x + 11 = 14`. Can you help me?'), type='text')], created_at=1699410597, file_ids=[], metadata={}, object='thread.message', role='user', run_id=None, thread_id='thread_n3xS8WjoEdzXVf8NPMTbRVbi')"
      ]
     },
     "execution_count": 5,
     "metadata": {},
     "output_type": "execute_result"
    }
   ],
   "source": [
    "prompt = \"I need to solve the equation `3x + 11 = 14`. Can you help me?\"\n",
    "message = client.beta.threads.messages.create(\n",
    "    thread_id=thread.id,\n",
    "    role=\"user\",\n",
    "    content=prompt,\n",
    ")\n",
    "message"
   ]
  },
  {
   "cell_type": "code",
   "execution_count": 6,
   "metadata": {},
   "outputs": [
    {
     "name": "stdout",
     "output_type": "stream",
     "text": [
      "[ThreadMessage(id='msg_MWA07EToVkTyeA2FeOdZsBvD', assistant_id=None, content=[MessageContentText(text=Text(annotations=[], value='I need to solve the equation `3x + 11 = 14`. Can you help me?'), type='text')], created_at=1699410597, file_ids=[], metadata={}, object='thread.message', role='user', run_id=None, thread_id='thread_n3xS8WjoEdzXVf8NPMTbRVbi')]\n"
     ]
    }
   ],
   "source": [
    "# List messages in the thread\n",
    "thread_messages = client.beta.threads.messages.list(thread_id=thread.id)\n",
    "print(thread_messages.data)"
   ]
  },
  {
   "cell_type": "code",
   "execution_count": 7,
   "metadata": {},
   "outputs": [
    {
     "data": {
      "text/plain": [
       "Run(id='run_hB9F5UWvWISwMCOrat6s831t', assistant_id='asst_do1pGfTj6rFPowBh7d0EtZpN', cancelled_at=None, completed_at=None, created_at=1699410948, expires_at=1699411548, failed_at=None, file_ids=[], instructions='Please address the user as Jane Doe. The user has a premium account.', last_error=None, metadata={}, model='gpt-4-1106-preview', object='thread.run', required_action=None, started_at=None, status='queued', thread_id='thread_n3xS8WjoEdzXVf8NPMTbRVbi', tools=[ToolAssistantToolsCode(type='code_interpreter')])"
      ]
     },
     "execution_count": 7,
     "metadata": {},
     "output_type": "execute_result"
    }
   ],
   "source": [
    "run = client.beta.threads.runs.create(\n",
    "    thread_id=thread.id,\n",
    "    assistant_id=assistant.id,\n",
    "    instructions=\"Please address the user as Jane Doe. The user has a premium account.\"\n",
    "    )\n",
    "run"
   ]
  },
  {
   "cell_type": "code",
   "execution_count": 8,
   "metadata": {},
   "outputs": [
    {
     "data": {
      "text/plain": [
       "Run(id='run_hB9F5UWvWISwMCOrat6s831t', assistant_id='asst_do1pGfTj6rFPowBh7d0EtZpN', cancelled_at=None, completed_at=1699410955, created_at=1699410948, expires_at=None, failed_at=None, file_ids=[], instructions='Please address the user as Jane Doe. The user has a premium account.', last_error=None, metadata={}, model='gpt-4-1106-preview', object='thread.run', required_action=None, started_at=1699410948, status='completed', thread_id='thread_n3xS8WjoEdzXVf8NPMTbRVbi', tools=[ToolAssistantToolsCode(type='code_interpreter')])"
      ]
     },
     "execution_count": 8,
     "metadata": {},
     "output_type": "execute_result"
    }
   ],
   "source": [
    "run = client.beta.threads.runs.retrieve(\n",
    "  thread_id=thread.id,\n",
    "  run_id=run.id\n",
    ")\n",
    "run"
   ]
  },
  {
   "cell_type": "code",
   "execution_count": 19,
   "metadata": {},
   "outputs": [
    {
     "name": "stdout",
     "output_type": "stream",
     "text": [
      "assistant\n",
      "The solution to the equation \\(3x + 11 = 14\\) is \\(x = 1\\).\n",
      "--\n",
      "assistant\n",
      "Absolutely, Jane Doe. To solve the equation \\(3x + 11 = 14\\), we need to find the value of \\(x\\) that makes this equation true. The steps to solve it are:\n",
      "\n",
      "1. Subtract 11 from both sides of the equation to isolate the term with \\(x\\) on one side.\n",
      "2. Divide by 3 to solve for \\(x\\).\n",
      "\n",
      "Let me do the math for you:\n",
      "--\n",
      "user\n",
      "I need to solve the equation `3x + 11 = 14`. Can you help me?\n",
      "--\n"
     ]
    }
   ],
   "source": [
    "messages = client.beta.threads.messages.list(\n",
    "  thread_id=thread.id\n",
    ")\n",
    "for m in messages.data:\n",
    "    print(m.role)\n",
    "    print(m.content[0].text.value)\n",
    "    print('--')"
   ]
  }
 ],
 "metadata": {
  "kernelspec": {
   "display_name": "env",
   "language": "python",
   "name": "python3"
  },
  "language_info": {
   "codemirror_mode": {
    "name": "ipython",
    "version": 3
   },
   "file_extension": ".py",
   "mimetype": "text/x-python",
   "name": "python",
   "nbconvert_exporter": "python",
   "pygments_lexer": "ipython3",
   "version": "3.10.4"
  }
 },
 "nbformat": 4,
 "nbformat_minor": 2
}
